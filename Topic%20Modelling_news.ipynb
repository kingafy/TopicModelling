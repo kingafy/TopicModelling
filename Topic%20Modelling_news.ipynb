{
 "cells": [
  {
   "cell_type": "code",
   "execution_count": 30,
   "metadata": {},
   "outputs": [],
   "source": [
    "import pandas as pd\n",
    "data = pd.read_csv(\"D:/Data Science/POC/Topic Modelling/million-headlines/abcnews-date-text.csv\", error_bad_lines=False);\n",
    "data_text = data[['headline_text']]\n",
    "data_text['index'] = data_text.index\n",
    "documents = data_text"
   ]
  },
  {
   "cell_type": "code",
   "execution_count": 31,
   "metadata": {},
   "outputs": [
    {
     "name": "stdout",
     "output_type": "stream",
     "text": [
      "1103665\n",
      "                                       headline_text  index\n",
      "0  aba decides against community broadcasting lic...      0\n",
      "1     act fire witnesses must be aware of defamation      1\n",
      "2     a g calls for infrastructure protection summit      2\n",
      "3           air nz staff in aust strike for pay rise      3\n",
      "4      air nz strike to affect australian travellers      4\n"
     ]
    }
   ],
   "source": [
    "print(len(documents))\n",
    "print(documents[:5])"
   ]
  },
  {
   "cell_type": "code",
   "execution_count": 32,
   "metadata": {},
   "outputs": [],
   "source": [
    "##Text preprocessing\n",
    "import gensim\n",
    "from gensim.utils import simple_preprocess\n",
    "from gensim.parsing.preprocessing import STOPWORDS\n",
    "from nltk.stem import WordNetLemmatizer, SnowballStemmer\n",
    "##from nltk.stem import PorterStemmer\n",
    "from nltk.stem.porter import *\n",
    "import numpy as np\n",
    "import nltk\n",
    "from nltk.stem.porter import *\n",
    "stemmer = PorterStemmer()\n",
    "np.random.seed(2018)"
   ]
  },
  {
   "cell_type": "code",
   "execution_count": 33,
   "metadata": {},
   "outputs": [],
   "source": [
    "##Lemmatise and Stem pipeline \n",
    "def lemmatize_stemming(text):\n",
    "    return stemmer.stem(WordNetLemmatizer().lemmatize(text, pos='v'))\n",
    "def preprocess(text):\n",
    "    result = []\n",
    "    for token in gensim.utils.simple_preprocess(text):\n",
    "        if token not in gensim.parsing.preprocessing.STOPWORDS and len(token) > 3:\n",
    "            result.append(lemmatize_stemming(token))\n",
    "    return result"
   ]
  },
  {
   "cell_type": "code",
   "execution_count": 34,
   "metadata": {},
   "outputs": [
    {
     "name": "stdout",
     "output_type": "stream",
     "text": [
      "original document: \n",
      "['rain', 'helps', 'dampen', 'bushfires']\n",
      "\n",
      "\n",
      " tokenized and lemmatized document: \n",
      "['rain', 'help', 'dampen', 'bushfir']\n"
     ]
    }
   ],
   "source": [
    "\n",
    "doc_sample = documents[documents['index'] == 4310].values[0][0]\n",
    "print('original document: ')\n",
    "words = []\n",
    "for word in doc_sample.split(' '):\n",
    "    words.append(word)\n",
    "print(words)\n",
    "print('\\n\\n tokenized and lemmatized document: ')\n",
    "print(preprocess(doc_sample))"
   ]
  },
  {
   "cell_type": "code",
   "execution_count": 35,
   "metadata": {},
   "outputs": [
    {
     "data": {
      "text/plain": [
       "0               [decid, commun, broadcast, licenc]\n",
       "1                               [wit, awar, defam]\n",
       "2           [call, infrastructur, protect, summit]\n",
       "3                      [staff, aust, strike, rise]\n",
       "4             [strike, affect, australian, travel]\n",
       "5               [ambiti, olsson, win, tripl, jump]\n",
       "6           [antic, delight, record, break, barca]\n",
       "7    [aussi, qualifi, stosur, wast, memphi, match]\n",
       "8            [aust, address, secur, council, iraq]\n",
       "9                         [australia, lock, timet]\n",
       "Name: headline_text, dtype: object"
      ]
     },
     "execution_count": 35,
     "metadata": {},
     "output_type": "execute_result"
    }
   ],
   "source": [
    "processed_docs = documents['headline_text'].map(preprocess)\n",
    "processed_docs[:10]"
   ]
  },
  {
   "cell_type": "code",
   "execution_count": 36,
   "metadata": {},
   "outputs": [
    {
     "name": "stdout",
     "output_type": "stream",
     "text": [
      "0 broadcast\n",
      "1 commun\n",
      "2 decid\n",
      "3 licenc\n",
      "4 awar\n",
      "5 defam\n",
      "6 wit\n",
      "7 call\n",
      "8 infrastructur\n",
      "9 protect\n",
      "10 summit\n"
     ]
    }
   ],
   "source": [
    "###WORD DICTIONARY/TOKEN DICTIONARY\n",
    "dictionary = gensim.corpora.Dictionary(processed_docs)\n",
    "count = 0\n",
    "for k, v in dictionary.iteritems():\n",
    "    print(k, v)\n",
    "    count += 1\n",
    "    if count > 10:\n",
    "        break"
   ]
  },
  {
   "cell_type": "code",
   "execution_count": 37,
   "metadata": {},
   "outputs": [],
   "source": [
    "##Feature reduction in mo of words from the corpus based on the occurence in documents\n",
    "##Filter out tokens that appear in\n",
    "\n",
    "##less than 15 documents (absolute number) or\n",
    "##more than 0.5 documents (fraction of total corpus size, not absolute number).\n",
    "##after the above two steps, keep only the first 100000 most frequent tokens.\n",
    "dictionary.filter_extremes(no_below=15, no_above=0.5, keep_n=100000)"
   ]
  },
  {
   "cell_type": "code",
   "execution_count": 38,
   "metadata": {},
   "outputs": [
    {
     "data": {
      "text/plain": [
       "[(76, 1), (112, 1), (483, 1), (4021, 1)]"
      ]
     },
     "execution_count": 38,
     "metadata": {},
     "output_type": "execute_result"
    }
   ],
   "source": [
    "##Use Gensim doc2bow for storing the words and frequeny of words\n",
    "bow_corpus = [dictionary.doc2bow(doc) for doc in processed_docs]\n",
    "bow_corpus[4310]"
   ]
  },
  {
   "cell_type": "code",
   "execution_count": 39,
   "metadata": {},
   "outputs": [
    {
     "name": "stdout",
     "output_type": "stream",
     "text": [
      "Word 76 (\"bushfir\") appears 1 time.\n",
      "Word 112 (\"help\") appears 1 time.\n",
      "Word 483 (\"rain\") appears 1 time.\n",
      "Word 4021 (\"dampen\") appears 1 time.\n"
     ]
    }
   ],
   "source": [
    "bow_doc_4310 = bow_corpus[4310]\n",
    "for i in range(len(bow_doc_4310)):\n",
    "    print(\"Word {} (\\\"{}\\\") appears {} time.\".format(bow_doc_4310[i][0], \n",
    "                                               dictionary[bow_doc_4310[i][0]], \n",
    "bow_doc_4310[i][1]))"
   ]
  },
  {
   "cell_type": "code",
   "execution_count": 40,
   "metadata": {},
   "outputs": [
    {
     "data": {
      "text/plain": [
       "['rain', 'help', 'dampen', 'bushfir']"
      ]
     },
     "execution_count": 40,
     "metadata": {},
     "output_type": "execute_result"
    }
   ],
   "source": [
    "processed_docs[4310]"
   ]
  },
  {
   "cell_type": "code",
   "execution_count": 41,
   "metadata": {},
   "outputs": [
    {
     "name": "stdout",
     "output_type": "stream",
     "text": [
      "[(0, 0.5903602896750699),\n",
      " (1, 0.38524510107363613),\n",
      " (2, 0.4974556071174764),\n",
      " (3, 0.5055678583740412)]\n"
     ]
    }
   ],
   "source": [
    "##Create tf-idf model object using models.TfidfModel on ‘bow_corpus’\n",
    "from gensim import corpora, models\n",
    "tfidf = models.TfidfModel(bow_corpus)\n",
    "corpus_tfidf = tfidf[bow_corpus]\n",
    "from pprint import pprint\n",
    "for doc in corpus_tfidf:\n",
    "    pprint(doc)\n",
    "    break"
   ]
  },
  {
   "cell_type": "code",
   "execution_count": 42,
   "metadata": {},
   "outputs": [],
   "source": [
    "##Running LDA using Bag of Words\n",
    "lda_model = gensim.models.LdaMulticore(bow_corpus, num_topics=10, id2word=dictionary, passes=2, workers=2)"
   ]
  },
  {
   "cell_type": "code",
   "execution_count": 43,
   "metadata": {},
   "outputs": [
    {
     "name": "stdout",
     "output_type": "stream",
     "text": [
      "Topic: 0 \n",
      "Words: 0.032*\"queensland\" + 0.020*\"countri\" + 0.018*\"hospit\" + 0.017*\"tasmanian\" + 0.017*\"hour\" + 0.015*\"work\" + 0.014*\"children\" + 0.013*\"citi\" + 0.011*\"prison\" + 0.010*\"young\"\n",
      "Topic: 1 \n",
      "Words: 0.030*\"australia\" + 0.023*\"world\" + 0.017*\"market\" + 0.014*\"sydney\" + 0.012*\"record\" + 0.012*\"share\" + 0.011*\"victoria\" + 0.009*\"australian\" + 0.009*\"port\" + 0.008*\"drum\"\n",
      "Topic: 2 \n",
      "Words: 0.035*\"trump\" + 0.022*\"kill\" + 0.021*\"north\" + 0.020*\"coast\" + 0.016*\"china\" + 0.016*\"attack\" + 0.014*\"adelaid\" + 0.014*\"west\" + 0.013*\"price\" + 0.013*\"gold\"\n",
      "Topic: 3 \n",
      "Words: 0.027*\"govern\" + 0.017*\"plan\" + 0.014*\"rural\" + 0.013*\"say\" + 0.013*\"council\" + 0.012*\"indigen\" + 0.012*\"turnbul\" + 0.012*\"water\" + 0.012*\"chang\" + 0.011*\"commun\"\n",
      "Topic: 4 \n",
      "Words: 0.017*\"tasmania\" + 0.015*\"time\" + 0.015*\"fight\" + 0.013*\"lose\" + 0.012*\"leagu\" + 0.010*\"john\" + 0.010*\"life\" + 0.009*\"premier\" + 0.009*\"unit\" + 0.008*\"make\"\n",
      "Topic: 5 \n",
      "Words: 0.027*\"elect\" + 0.023*\"south\" + 0.022*\"nation\" + 0.016*\"open\" + 0.014*\"australia\" + 0.014*\"final\" + 0.011*\"park\" + 0.010*\"budget\" + 0.010*\"polit\" + 0.010*\"talk\"\n",
      "Topic: 6 \n",
      "Words: 0.017*\"brisban\" + 0.016*\"famili\" + 0.014*\"child\" + 0.013*\"report\" + 0.012*\"jail\" + 0.011*\"abus\" + 0.011*\"sentenc\" + 0.011*\"show\" + 0.010*\"victim\" + 0.010*\"releas\"\n",
      "Topic: 7 \n",
      "Words: 0.023*\"hous\" + 0.019*\"die\" + 0.016*\"home\" + 0.014*\"crash\" + 0.014*\"break\" + 0.013*\"take\" + 0.013*\"perth\" + 0.011*\"lead\" + 0.010*\"near\" + 0.009*\"road\"\n",
      "Topic: 8 \n",
      "Words: 0.032*\"polic\" + 0.018*\"interview\" + 0.018*\"health\" + 0.018*\"miss\" + 0.014*\"servic\" + 0.014*\"investig\" + 0.013*\"concern\" + 0.011*\"call\" + 0.011*\"search\" + 0.011*\"minist\"\n",
      "Topic: 9 \n",
      "Words: 0.031*\"charg\" + 0.030*\"court\" + 0.024*\"polic\" + 0.023*\"murder\" + 0.019*\"face\" + 0.015*\"woman\" + 0.015*\"accus\" + 0.015*\"donald\" + 0.014*\"drug\" + 0.013*\"arrest\"\n"
     ]
    }
   ],
   "source": [
    "import pickle\n",
    "filename = \"D:/Data Science/POC/Topic Modelling/million-headlines/finalized_model.sav\"\n",
    "pickle.dump(lda_model, open(filename, 'wb'))\n",
    "for idx, topic in lda_model.print_topics(-1):\n",
    "    print('Topic: {} \\nWords: {}'.format(idx, topic))"
   ]
  },
  {
   "cell_type": "code",
   "execution_count": 44,
   "metadata": {},
   "outputs": [
    {
     "name": "stdout",
     "output_type": "stream",
     "text": [
      "Topic: 0 Word: 0.012*\"drum\" + 0.007*\"climat\" + 0.007*\"septemb\" + 0.007*\"rise\" + 0.006*\"august\" + 0.006*\"malcolm\" + 0.006*\"rate\" + 0.006*\"rat\" + 0.006*\"price\" + 0.005*\"tree\"\n",
      "Topic: 1 Word: 0.017*\"charg\" + 0.017*\"polic\" + 0.015*\"murder\" + 0.011*\"court\" + 0.010*\"death\" + 0.010*\"woman\" + 0.009*\"jail\" + 0.008*\"child\" + 0.008*\"assault\" + 0.008*\"accus\"\n",
      "Topic: 2 Word: 0.018*\"trump\" + 0.011*\"market\" + 0.009*\"donald\" + 0.008*\"weather\" + 0.008*\"share\" + 0.006*\"australian\" + 0.006*\"street\" + 0.006*\"tuesday\" + 0.006*\"live\" + 0.006*\"wall\"\n",
      "Topic: 3 Word: 0.016*\"rural\" + 0.016*\"countri\" + 0.014*\"hour\" + 0.008*\"govern\" + 0.008*\"health\" + 0.007*\"fund\" + 0.006*\"grandstand\" + 0.005*\"sport\" + 0.005*\"nation\" + 0.005*\"servic\"\n",
      "Topic: 4 Word: 0.015*\"interview\" + 0.007*\"australia\" + 0.006*\"miss\" + 0.006*\"leagu\" + 0.006*\"search\" + 0.006*\"rugbi\" + 0.006*\"world\" + 0.006*\"novemb\" + 0.006*\"test\" + 0.005*\"sexual\"\n",
      "Topic: 5 Word: 0.008*\"dollar\" + 0.007*\"juli\" + 0.007*\"thursday\" + 0.005*\"social\" + 0.005*\"australian\" + 0.004*\"global\" + 0.004*\"billion\" + 0.004*\"pay\" + 0.004*\"stream\" + 0.004*\"femal\"\n",
      "Topic: 6 Word: 0.010*\"tasmania\" + 0.009*\"royal\" + 0.008*\"violenc\" + 0.007*\"wednesday\" + 0.007*\"domest\" + 0.006*\"jam\" + 0.006*\"peter\" + 0.005*\"commiss\" + 0.005*\"world\" + 0.005*\"open\"\n",
      "Topic: 7 Word: 0.013*\"elect\" + 0.007*\"say\" + 0.007*\"liber\" + 0.006*\"labor\" + 0.006*\"parti\" + 0.006*\"marriag\" + 0.006*\"christma\" + 0.006*\"asylum\" + 0.006*\"state\" + 0.006*\"vote\"\n",
      "Topic: 8 Word: 0.012*\"news\" + 0.006*\"farm\" + 0.006*\"coal\" + 0.006*\"monday\" + 0.006*\"farmer\" + 0.006*\"energi\" + 0.006*\"queensland\" + 0.005*\"dairi\" + 0.005*\"rain\" + 0.005*\"busi\"\n",
      "Topic: 9 Word: 0.016*\"crash\" + 0.013*\"podcast\" + 0.010*\"turnbul\" + 0.009*\"die\" + 0.009*\"stab\" + 0.008*\"michael\" + 0.007*\"fatal\" + 0.006*\"truck\" + 0.006*\"dead\" + 0.006*\"kill\"\n"
     ]
    }
   ],
   "source": [
    "##LDA using TFIDF\n",
    "lda_model_tfidf = gensim.models.LdaMulticore(corpus_tfidf, num_topics=10, id2word=dictionary, passes=2, workers=4)\n",
    "filename1 = \"D:/Data Science/POC/Topic Modelling/million-headlines/finalized_model_lda_tfidf.sav\"\n",
    "pickle.dump(lda_model, open(filename1, 'wb'))\n",
    "for idx, topic in lda_model_tfidf.print_topics(-1):\n",
    "    print('Topic: {} Word: {}'.format(idx, topic))"
   ]
  },
  {
   "cell_type": "code",
   "execution_count": 45,
   "metadata": {},
   "outputs": [
    {
     "name": "stdout",
     "output_type": "stream",
     "text": [
      "\n",
      "Score: 0.420001357793808\t \n",
      "Topic: 0.023*\"hous\" + 0.019*\"die\" + 0.016*\"home\" + 0.014*\"crash\" + 0.014*\"break\" + 0.013*\"take\" + 0.013*\"perth\" + 0.011*\"lead\" + 0.010*\"near\" + 0.009*\"road\"\n",
      "\n",
      "Score: 0.41999563574790955\t \n",
      "Topic: 0.027*\"govern\" + 0.017*\"plan\" + 0.014*\"rural\" + 0.013*\"say\" + 0.013*\"council\" + 0.012*\"indigen\" + 0.012*\"turnbul\" + 0.012*\"water\" + 0.012*\"chang\" + 0.011*\"commun\"\n",
      "\n",
      "Score: 0.020001839846372604\t \n",
      "Topic: 0.017*\"brisban\" + 0.016*\"famili\" + 0.014*\"child\" + 0.013*\"report\" + 0.012*\"jail\" + 0.011*\"abus\" + 0.011*\"sentenc\" + 0.011*\"show\" + 0.010*\"victim\" + 0.010*\"releas\"\n",
      "\n",
      "Score: 0.020000966265797615\t \n",
      "Topic: 0.032*\"polic\" + 0.018*\"interview\" + 0.018*\"health\" + 0.018*\"miss\" + 0.014*\"servic\" + 0.014*\"investig\" + 0.013*\"concern\" + 0.011*\"call\" + 0.011*\"search\" + 0.011*\"minist\"\n",
      "\n",
      "Score: 0.020000217482447624\t \n",
      "Topic: 0.035*\"trump\" + 0.022*\"kill\" + 0.021*\"north\" + 0.020*\"coast\" + 0.016*\"china\" + 0.016*\"attack\" + 0.014*\"adelaid\" + 0.014*\"west\" + 0.013*\"price\" + 0.013*\"gold\"\n",
      "\n",
      "Score: 0.020000001415610313\t \n",
      "Topic: 0.032*\"queensland\" + 0.020*\"countri\" + 0.018*\"hospit\" + 0.017*\"tasmanian\" + 0.017*\"hour\" + 0.015*\"work\" + 0.014*\"children\" + 0.013*\"citi\" + 0.011*\"prison\" + 0.010*\"young\"\n",
      "\n",
      "Score: 0.020000001415610313\t \n",
      "Topic: 0.030*\"australia\" + 0.023*\"world\" + 0.017*\"market\" + 0.014*\"sydney\" + 0.012*\"record\" + 0.012*\"share\" + 0.011*\"victoria\" + 0.009*\"australian\" + 0.009*\"port\" + 0.008*\"drum\"\n",
      "\n",
      "Score: 0.020000001415610313\t \n",
      "Topic: 0.017*\"tasmania\" + 0.015*\"time\" + 0.015*\"fight\" + 0.013*\"lose\" + 0.012*\"leagu\" + 0.010*\"john\" + 0.010*\"life\" + 0.009*\"premier\" + 0.009*\"unit\" + 0.008*\"make\"\n",
      "\n",
      "Score: 0.020000001415610313\t \n",
      "Topic: 0.027*\"elect\" + 0.023*\"south\" + 0.022*\"nation\" + 0.016*\"open\" + 0.014*\"australia\" + 0.014*\"final\" + 0.011*\"park\" + 0.010*\"budget\" + 0.010*\"polit\" + 0.010*\"talk\"\n",
      "\n",
      "Score: 0.020000001415610313\t \n",
      "Topic: 0.031*\"charg\" + 0.030*\"court\" + 0.024*\"polic\" + 0.023*\"murder\" + 0.019*\"face\" + 0.015*\"woman\" + 0.015*\"accus\" + 0.015*\"donald\" + 0.014*\"drug\" + 0.013*\"arrest\"\n"
     ]
    }
   ],
   "source": [
    "##Classification of our test docs\n",
    "processed_docs[4310]\n",
    "for index, score in sorted(lda_model[bow_corpus[4310]], key=lambda tup: -1*tup[1]):\n",
    "    print(\"\\nScore: {}\\t \\nTopic: {}\".format(score, lda_model.print_topic(index, 10)))"
   ]
  },
  {
   "cell_type": "code",
   "execution_count": 46,
   "metadata": {},
   "outputs": [
    {
     "name": "stdout",
     "output_type": "stream",
     "text": [
      "\n",
      "Score: 0.6012848615646362\t \n",
      "Topic: 0.012*\"news\" + 0.006*\"farm\" + 0.006*\"coal\" + 0.006*\"monday\" + 0.006*\"farmer\" + 0.006*\"energi\" + 0.006*\"queensland\" + 0.005*\"dairi\" + 0.005*\"rain\" + 0.005*\"busi\"\n",
      "\n",
      "Score: 0.23870429396629333\t \n",
      "Topic: 0.016*\"crash\" + 0.013*\"podcast\" + 0.010*\"turnbul\" + 0.009*\"die\" + 0.009*\"stab\" + 0.008*\"michael\" + 0.007*\"fatal\" + 0.006*\"truck\" + 0.006*\"dead\" + 0.006*\"kill\"\n",
      "\n",
      "Score: 0.020003337413072586\t \n",
      "Topic: 0.016*\"rural\" + 0.016*\"countri\" + 0.014*\"hour\" + 0.008*\"govern\" + 0.008*\"health\" + 0.007*\"fund\" + 0.006*\"grandstand\" + 0.005*\"sport\" + 0.005*\"nation\" + 0.005*\"servic\"\n",
      "\n",
      "Score: 0.020001590251922607\t \n",
      "Topic: 0.017*\"charg\" + 0.017*\"polic\" + 0.015*\"murder\" + 0.011*\"court\" + 0.010*\"death\" + 0.010*\"woman\" + 0.009*\"jail\" + 0.008*\"child\" + 0.008*\"assault\" + 0.008*\"accus\"\n",
      "\n",
      "Score: 0.020001519471406937\t \n",
      "Topic: 0.018*\"trump\" + 0.011*\"market\" + 0.009*\"donald\" + 0.008*\"weather\" + 0.008*\"share\" + 0.006*\"australian\" + 0.006*\"street\" + 0.006*\"tuesday\" + 0.006*\"live\" + 0.006*\"wall\"\n",
      "\n",
      "Score: 0.02000145986676216\t \n",
      "Topic: 0.012*\"drum\" + 0.007*\"climat\" + 0.007*\"septemb\" + 0.007*\"rise\" + 0.006*\"august\" + 0.006*\"malcolm\" + 0.006*\"rate\" + 0.006*\"rat\" + 0.006*\"price\" + 0.005*\"tree\"\n",
      "\n",
      "Score: 0.020001254975795746\t \n",
      "Topic: 0.008*\"dollar\" + 0.007*\"juli\" + 0.007*\"thursday\" + 0.005*\"social\" + 0.005*\"australian\" + 0.004*\"global\" + 0.004*\"billion\" + 0.004*\"pay\" + 0.004*\"stream\" + 0.004*\"femal\"\n",
      "\n",
      "Score: 0.020000722259283066\t \n",
      "Topic: 0.010*\"tasmania\" + 0.009*\"royal\" + 0.008*\"violenc\" + 0.007*\"wednesday\" + 0.007*\"domest\" + 0.006*\"jam\" + 0.006*\"peter\" + 0.005*\"commiss\" + 0.005*\"world\" + 0.005*\"open\"\n",
      "\n",
      "Score: 0.020000558346509933\t \n",
      "Topic: 0.015*\"interview\" + 0.007*\"australia\" + 0.006*\"miss\" + 0.006*\"leagu\" + 0.006*\"search\" + 0.006*\"rugbi\" + 0.006*\"world\" + 0.006*\"novemb\" + 0.006*\"test\" + 0.005*\"sexual\"\n",
      "\n",
      "Score: 0.020000405609607697\t \n",
      "Topic: 0.013*\"elect\" + 0.007*\"say\" + 0.007*\"liber\" + 0.006*\"labor\" + 0.006*\"parti\" + 0.006*\"marriag\" + 0.006*\"christma\" + 0.006*\"asylum\" + 0.006*\"state\" + 0.006*\"vote\"\n"
     ]
    }
   ],
   "source": [
    "for index, score in sorted(lda_model_tfidf[bow_corpus[4310]], key=lambda tup: -1*tup[1]):\n",
    "    print(\"\\nScore: {}\\t \\nTopic: {}\".format(score, lda_model_tfidf.print_topic(index, 10)))"
   ]
  },
  {
   "cell_type": "code",
   "execution_count": 47,
   "metadata": {},
   "outputs": [
    {
     "name": "stdout",
     "output_type": "stream",
     "text": [
      "Score: 0.3499999940395355\t Topic: 0.031*\"charg\" + 0.030*\"court\" + 0.024*\"polic\" + 0.023*\"murder\" + 0.019*\"face\"\n",
      "Score: 0.349981427192688\t Topic: 0.027*\"elect\" + 0.023*\"south\" + 0.022*\"nation\" + 0.016*\"open\" + 0.014*\"australia\"\n",
      "Score: 0.18333333730697632\t Topic: 0.017*\"brisban\" + 0.016*\"famili\" + 0.014*\"child\" + 0.013*\"report\" + 0.012*\"jail\"\n",
      "Score: 0.016680026426911354\t Topic: 0.035*\"trump\" + 0.022*\"kill\" + 0.021*\"north\" + 0.020*\"coast\" + 0.016*\"china\"\n",
      "Score: 0.016671927645802498\t Topic: 0.027*\"govern\" + 0.017*\"plan\" + 0.014*\"rural\" + 0.013*\"say\" + 0.013*\"council\"\n",
      "Score: 0.01666666753590107\t Topic: 0.032*\"queensland\" + 0.020*\"countri\" + 0.018*\"hospit\" + 0.017*\"tasmanian\" + 0.017*\"hour\"\n",
      "Score: 0.01666666753590107\t Topic: 0.030*\"australia\" + 0.023*\"world\" + 0.017*\"market\" + 0.014*\"sydney\" + 0.012*\"record\"\n",
      "Score: 0.01666666753590107\t Topic: 0.017*\"tasmania\" + 0.015*\"time\" + 0.015*\"fight\" + 0.013*\"lose\" + 0.012*\"leagu\"\n",
      "Score: 0.01666666753590107\t Topic: 0.023*\"hous\" + 0.019*\"die\" + 0.016*\"home\" + 0.014*\"crash\" + 0.014*\"break\"\n",
      "Score: 0.01666666753590107\t Topic: 0.032*\"polic\" + 0.018*\"interview\" + 0.018*\"health\" + 0.018*\"miss\" + 0.014*\"servic\"\n"
     ]
    }
   ],
   "source": [
    "###Unseen document\n",
    "unseen_document = 'How a Pentagon deal became an identity crisis for Google'\n",
    "bow_vector = dictionary.doc2bow(preprocess(unseen_document))\n",
    "for index, score in sorted(lda_model[bow_vector], key=lambda tup: -1*tup[1]):\n",
    "    print(\"Score: {}\\t Topic: {}\".format(score, lda_model.print_topic(index, 5)))"
   ]
  },
  {
   "cell_type": "code",
   "execution_count": null,
   "metadata": {},
   "outputs": [],
   "source": []
  }
 ],
 "metadata": {
  "kernelspec": {
   "display_name": "Python 3",
   "language": "python",
   "name": "python3"
  },
  "language_info": {
   "codemirror_mode": {
    "name": "ipython",
    "version": 3
   },
   "file_extension": ".py",
   "mimetype": "text/x-python",
   "name": "python",
   "nbconvert_exporter": "python",
   "pygments_lexer": "ipython3",
   "version": "3.6.5"
  }
 },
 "nbformat": 4,
 "nbformat_minor": 2
}
